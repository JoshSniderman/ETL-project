{
 "cells": [
  {
   "cell_type": "code",
   "execution_count": 1,
   "metadata": {},
   "outputs": [],
   "source": [
    "from bs4 import BeautifulSoup\n",
    "from webdriver_manager.chrome import ChromeDriverManager\n",
    "from splinter import Browser\n",
    "import pandas as pd"
   ]
  },
  {
   "cell_type": "code",
   "execution_count": 2,
   "metadata": {},
   "outputs": [
    {
     "name": "stderr",
     "output_type": "stream",
     "text": [
      "[WDM] - ====== WebDriver manager ======\n",
      "[WDM] - Current google-chrome version is 89.0.4389\n",
      "[WDM] - Get LATEST driver version for 89.0.4389\n",
      "[WDM] - Driver [C:\\Users\\freak\\.wdm\\drivers\\chromedriver\\win32\\89.0.4389.23\\chromedriver.exe] found in cache\n"
     ]
    },
    {
     "name": "stdout",
     "output_type": "stream",
     "text": [
      "\n",
      "\n"
     ]
    }
   ],
   "source": [
    "executable_path = {\"executable_path\": ChromeDriverManager().install()}\n",
    "browser = Browser(\"chrome\", **executable_path, headless=False)"
   ]
  },
  {
   "cell_type": "code",
   "execution_count": 3,
   "metadata": {},
   "outputs": [],
   "source": [
    "url = \"https://www.trulia.com/TX/\""
   ]
  },
  {
   "cell_type": "code",
   "execution_count": 4,
   "metadata": {},
   "outputs": [],
   "source": [
    "cities = [\n",
    "    'Dallas', \n",
    "    'Frisco', \n",
    "    'Plano', \n",
    "    'Fort_Worth',\n",
    "    'Garland',\n",
    "    'Irving',\n",
    "    'Arlington', \n",
    "    'Carrollton'\n",
    "]\n",
    "price_list = []\n",
    "bed_list = []\n",
    "bath_list = []\n",
    "sqft_list = []\n",
    "address_list = []\n",
    "city_list = []"
   ]
  },
  {
   "cell_type": "code",
   "execution_count": 5,
   "metadata": {},
   "outputs": [
    {
     "name": "stdout",
     "output_type": "stream",
     "text": [
      "240\n",
      "240\n",
      "240\n",
      "240\n",
      "240\n",
      "240\n"
     ]
    }
   ],
   "source": [
    "# Retrieve data: Price, # of beds, # of baths, sqft, address, area of Dallas\n",
    "for c in cities:\n",
    "    browser.visit(url + c + '/')\n",
    "\n",
    "    html = browser.html\n",
    "    soup = BeautifulSoup(html, 'html.parser')\n",
    "\n",
    "    price = soup.find_all('div', class_=\"Text__TextBase-sc-1cait9d-0-div Text__TextContainerBase-sc-1cait9d-1 keMYfJ\")\n",
    "    for p in price:\n",
    "        price_list.append(p.text)\n",
    "\n",
    "    bed_bath = soup.find_all('div', class_=\"MediaBlock__MediaContent-skmvlj-1 jNJnVO\")\n",
    "    for b in bed_bath:\n",
    "    # bed_list = [b.text for b in bed_bath]\n",
    "        if b.text[-1] == 'd':\n",
    "            bed_list.append(b.text)\n",
    "        elif b.text[-1] == 'a':\n",
    "            bath_list.append(b.text)\n",
    "\n",
    "    loc = soup.find_all('div', class_=\"Text__TextBase-sc-1cait9d-0-div Text__TextContainerBase-sc-1cait9d-1 dZyoXR\")\n",
    "\n",
    "    for s in loc:\n",
    "        if s.text[-4:] == 'sqft':\n",
    "            sqft_list.append(s.text)\n",
    "        elif s.text[-4:] == ', TX':\n",
    "            city_list.append(s.text)\n",
    "        else:\n",
    "            address_list.append(s.text)\n",
    "            \n",
    "print(len(price_list))\n",
    "print(len(bed_list))\n",
    "print(len(bath_list))\n",
    "print(len(sqft_list))\n",
    "print(len(address_list))\n",
    "print(len(city_list))"
   ]
  },
  {
   "cell_type": "code",
   "execution_count": 6,
   "metadata": {},
   "outputs": [],
   "source": [
    "# for i in range(30):\n",
    "# url = \"https://www.trulia.com/TX/Dallas/\"\n",
    "# browser.visit(url)\n",
    "# xpath = '//h3'\n",
    "# results = browser.find_by_xpath(xpath)\n",
    "# img = results[1]\n",
    "# img.click()    "
   ]
  },
  {
   "cell_type": "code",
   "execution_count": 7,
   "metadata": {},
   "outputs": [
    {
     "data": {
      "text/html": [
       "<div>\n",
       "<style scoped>\n",
       "    .dataframe tbody tr th:only-of-type {\n",
       "        vertical-align: middle;\n",
       "    }\n",
       "\n",
       "    .dataframe tbody tr th {\n",
       "        vertical-align: top;\n",
       "    }\n",
       "\n",
       "    .dataframe thead th {\n",
       "        text-align: right;\n",
       "    }\n",
       "</style>\n",
       "<table border=\"1\" class=\"dataframe\">\n",
       "  <thead>\n",
       "    <tr style=\"text-align: right;\">\n",
       "      <th></th>\n",
       "      <th>Price</th>\n",
       "      <th># of Beds</th>\n",
       "      <th># of Baths</th>\n",
       "      <th>sqft</th>\n",
       "      <th>Address</th>\n",
       "      <th>City</th>\n",
       "    </tr>\n",
       "  </thead>\n",
       "  <tbody>\n",
       "    <tr>\n",
       "      <th>0</th>\n",
       "      <td>$245,000</td>\n",
       "      <td>4bd</td>\n",
       "      <td>2ba</td>\n",
       "      <td>2,200 sqft</td>\n",
       "      <td>2827 Curvilinear Ct</td>\n",
       "      <td>Southeast Dallas, Dallas, TX</td>\n",
       "    </tr>\n",
       "    <tr>\n",
       "      <th>1</th>\n",
       "      <td>$475,000</td>\n",
       "      <td>3bd</td>\n",
       "      <td>2ba</td>\n",
       "      <td>2,089 sqft</td>\n",
       "      <td>7036 Winchester St</td>\n",
       "      <td>Northeast Dallas, Dallas, TX</td>\n",
       "    </tr>\n",
       "    <tr>\n",
       "      <th>2</th>\n",
       "      <td>$275,000</td>\n",
       "      <td>4bd</td>\n",
       "      <td>2ba</td>\n",
       "      <td>1,800 sqft</td>\n",
       "      <td>132 W Woodin Blvd</td>\n",
       "      <td>Cedar Crest, Dallas, TX</td>\n",
       "    </tr>\n",
       "    <tr>\n",
       "      <th>3</th>\n",
       "      <td>$209,900</td>\n",
       "      <td>3bd</td>\n",
       "      <td>2ba</td>\n",
       "      <td>1,902 sqft</td>\n",
       "      <td>7311 Hardwood Trl</td>\n",
       "      <td>Southwest Dallas, Dallas, TX</td>\n",
       "    </tr>\n",
       "    <tr>\n",
       "      <th>4</th>\n",
       "      <td>$225,000</td>\n",
       "      <td>5bd</td>\n",
       "      <td>2ba</td>\n",
       "      <td>2,500 sqft</td>\n",
       "      <td>2720 E Atoll Dr</td>\n",
       "      <td>Cedar Crest, Dallas, TX</td>\n",
       "    </tr>\n",
       "    <tr>\n",
       "      <th>...</th>\n",
       "      <td>...</td>\n",
       "      <td>...</td>\n",
       "      <td>...</td>\n",
       "      <td>...</td>\n",
       "      <td>...</td>\n",
       "      <td>...</td>\n",
       "    </tr>\n",
       "    <tr>\n",
       "      <th>235</th>\n",
       "      <td>$425,000</td>\n",
       "      <td>4bd</td>\n",
       "      <td>2ba</td>\n",
       "      <td>2,666 sqft</td>\n",
       "      <td>3817 Harrison Dr</td>\n",
       "      <td>Indian Creek, Carrollton, TX</td>\n",
       "    </tr>\n",
       "    <tr>\n",
       "      <th>236</th>\n",
       "      <td>$350,000</td>\n",
       "      <td>4bd</td>\n",
       "      <td>3ba</td>\n",
       "      <td>2,368 sqft</td>\n",
       "      <td>2517 Rosebud Cir</td>\n",
       "      <td>Carrollton Summertree, Carrollton, TX</td>\n",
       "    </tr>\n",
       "    <tr>\n",
       "      <th>237</th>\n",
       "      <td>$399,900</td>\n",
       "      <td>4bd</td>\n",
       "      <td>3ba</td>\n",
       "      <td>2,723 sqft</td>\n",
       "      <td>4216 Eastwood Dr</td>\n",
       "      <td>Oak Hills, Carrollton, TX</td>\n",
       "    </tr>\n",
       "    <tr>\n",
       "      <th>238</th>\n",
       "      <td>$398,750</td>\n",
       "      <td>4bd</td>\n",
       "      <td>3ba</td>\n",
       "      <td>2,347 sqft</td>\n",
       "      <td>1514 Northland St</td>\n",
       "      <td>Trinity Mills, Carrollton, TX</td>\n",
       "    </tr>\n",
       "    <tr>\n",
       "      <th>239</th>\n",
       "      <td>$310,000</td>\n",
       "      <td>2bd</td>\n",
       "      <td>3ba</td>\n",
       "      <td>1,940 sqft</td>\n",
       "      <td>4121 Indian Run Dr</td>\n",
       "      <td>Indian Creek, Carrollton, TX</td>\n",
       "    </tr>\n",
       "  </tbody>\n",
       "</table>\n",
       "<p>240 rows × 6 columns</p>\n",
       "</div>"
      ],
      "text/plain": [
       "        Price # of Beds # of Baths        sqft              Address  \\\n",
       "0    $245,000       4bd        2ba  2,200 sqft  2827 Curvilinear Ct   \n",
       "1    $475,000       3bd        2ba  2,089 sqft   7036 Winchester St   \n",
       "2    $275,000       4bd        2ba  1,800 sqft    132 W Woodin Blvd   \n",
       "3    $209,900       3bd        2ba  1,902 sqft    7311 Hardwood Trl   \n",
       "4    $225,000       5bd        2ba  2,500 sqft      2720 E Atoll Dr   \n",
       "..        ...       ...        ...         ...                  ...   \n",
       "235  $425,000       4bd        2ba  2,666 sqft     3817 Harrison Dr   \n",
       "236  $350,000       4bd        3ba  2,368 sqft     2517 Rosebud Cir   \n",
       "237  $399,900       4bd        3ba  2,723 sqft     4216 Eastwood Dr   \n",
       "238  $398,750       4bd        3ba  2,347 sqft    1514 Northland St   \n",
       "239  $310,000       2bd        3ba  1,940 sqft   4121 Indian Run Dr   \n",
       "\n",
       "                                      City  \n",
       "0             Southeast Dallas, Dallas, TX  \n",
       "1             Northeast Dallas, Dallas, TX  \n",
       "2                  Cedar Crest, Dallas, TX  \n",
       "3             Southwest Dallas, Dallas, TX  \n",
       "4                  Cedar Crest, Dallas, TX  \n",
       "..                                     ...  \n",
       "235           Indian Creek, Carrollton, TX  \n",
       "236  Carrollton Summertree, Carrollton, TX  \n",
       "237              Oak Hills, Carrollton, TX  \n",
       "238          Trinity Mills, Carrollton, TX  \n",
       "239           Indian Creek, Carrollton, TX  \n",
       "\n",
       "[240 rows x 6 columns]"
      ]
     },
     "execution_count": 7,
     "metadata": {},
     "output_type": "execute_result"
    }
   ],
   "source": [
    "df = pd.DataFrame({\"Price\": price_list, \n",
    "                   \"# of Beds\": bed_list, \n",
    "                   \"# of Baths\": bath_list, \n",
    "                  \"sqft\": sqft_list, \n",
    "                   \"Address\": address_list, \n",
    "                   \"City\": city_list})\n",
    "df"
   ]
  },
  {
   "cell_type": "code",
   "execution_count": 8,
   "metadata": {},
   "outputs": [],
   "source": [
    "browser.quit()"
   ]
  },
  {
   "cell_type": "code",
   "execution_count": 9,
   "metadata": {},
   "outputs": [],
   "source": [
    "df.to_csv(\"Trulia_Scrape.csv\")"
   ]
  }
 ],
 "metadata": {
  "kernelspec": {
   "display_name": "Python 3",
   "language": "python",
   "name": "python3"
  },
  "language_info": {
   "codemirror_mode": {
    "name": "ipython",
    "version": 3
   },
   "file_extension": ".py",
   "mimetype": "text/x-python",
   "name": "python",
   "nbconvert_exporter": "python",
   "pygments_lexer": "ipython3",
   "version": "3.8.5"
  }
 },
 "nbformat": 4,
 "nbformat_minor": 4
}
